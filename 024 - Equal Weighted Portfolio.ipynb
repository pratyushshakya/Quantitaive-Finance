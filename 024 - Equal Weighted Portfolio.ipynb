{
 "cells": [
  {
   "cell_type": "code",
   "execution_count": 1,
   "id": "f4962c3c",
   "metadata": {},
   "outputs": [],
   "source": [
    "import numpy as np\n",
    "import pandas as pd\n",
    "import matplotlib.pyplot as plt"
   ]
  },
  {
   "cell_type": "code",
   "execution_count": 13,
   "id": "537685ba",
   "metadata": {},
   "outputs": [],
   "source": [
    "cost = pd.read_csv('/Users/pratyush/Python/Python for Finance and Algorithmic Trading/Python-Finance-QuantConnect (1)/06-Financial-Concepts-with-Python/COST.csv', index_col = 'Date', parse_dates = True)['Adj Close']"
   ]
  },
  {
   "cell_type": "code",
   "execution_count": 3,
   "id": "0a3eb163",
   "metadata": {},
   "outputs": [],
   "source": [
    "wmt = pd.read_csv('/Users/pratyush/Python/Python for Finance and Algorithmic Trading/Python-Finance-QuantConnect (1)/06-Financial-Concepts-with-Python/WMT.csv', index_col = 'Date', parse_dates = True)['Adj Close']"
   ]
  },
  {
   "cell_type": "code",
   "execution_count": 4,
   "id": "2f9d605f",
   "metadata": {},
   "outputs": [],
   "source": [
    "tgt = cost = pd.read_csv('/Users/pratyush/Python/Python for Finance and Algorithmic Trading/Python-Finance-QuantConnect (1)/06-Financial-Concepts-with-Python/TGT.csv', index_col = 'Date', parse_dates = True)['Adj Close']"
   ]
  },
  {
   "cell_type": "code",
   "execution_count": 5,
   "id": "cb671511",
   "metadata": {},
   "outputs": [],
   "source": [
    "dg = pd.read_csv('/Users/pratyush/Python/Python for Finance and Algorithmic Trading/Python-Finance-QuantConnect (1)/06-Financial-Concepts-with-Python/DG.csv', index_col = 'Date', parse_dates = True)['Adj Close']"
   ]
  },
  {
   "cell_type": "code",
   "execution_count": 14,
   "id": "0b722740",
   "metadata": {},
   "outputs": [],
   "source": [
    "#To concatonate all data in a new dataframe\n",
    "\n",
    "retail = pd.concat([cost,wmt,tgt,dg], axis = 1)\n",
    "retail.columns = ['COST','WMT','TGT','DG']"
   ]
  },
  {
   "cell_type": "code",
   "execution_count": 15,
   "id": "d7b178eb",
   "metadata": {},
   "outputs": [
    {
     "data": {
      "text/html": [
       "<div>\n",
       "<style scoped>\n",
       "    .dataframe tbody tr th:only-of-type {\n",
       "        vertical-align: middle;\n",
       "    }\n",
       "\n",
       "    .dataframe tbody tr th {\n",
       "        vertical-align: top;\n",
       "    }\n",
       "\n",
       "    .dataframe thead th {\n",
       "        text-align: right;\n",
       "    }\n",
       "</style>\n",
       "<table border=\"1\" class=\"dataframe\">\n",
       "  <thead>\n",
       "    <tr style=\"text-align: right;\">\n",
       "      <th></th>\n",
       "      <th>COST</th>\n",
       "      <th>WMT</th>\n",
       "      <th>TGT</th>\n",
       "      <th>DG</th>\n",
       "    </tr>\n",
       "    <tr>\n",
       "      <th>Date</th>\n",
       "      <th></th>\n",
       "      <th></th>\n",
       "      <th></th>\n",
       "      <th></th>\n",
       "    </tr>\n",
       "  </thead>\n",
       "  <tbody>\n",
       "    <tr>\n",
       "      <th>2016-09-06</th>\n",
       "      <td>140.896622</td>\n",
       "      <td>65.758080</td>\n",
       "      <td>60.674061</td>\n",
       "      <td>68.342621</td>\n",
       "    </tr>\n",
       "    <tr>\n",
       "      <th>2016-09-07</th>\n",
       "      <td>138.739395</td>\n",
       "      <td>64.911324</td>\n",
       "      <td>60.847187</td>\n",
       "      <td>68.105331</td>\n",
       "    </tr>\n",
       "    <tr>\n",
       "      <th>2016-09-08</th>\n",
       "      <td>136.805038</td>\n",
       "      <td>64.704163</td>\n",
       "      <td>60.120117</td>\n",
       "      <td>67.080215</td>\n",
       "    </tr>\n",
       "    <tr>\n",
       "      <th>2016-09-09</th>\n",
       "      <td>134.335831</td>\n",
       "      <td>63.325943</td>\n",
       "      <td>59.721989</td>\n",
       "      <td>66.994766</td>\n",
       "    </tr>\n",
       "    <tr>\n",
       "      <th>2016-09-12</th>\n",
       "      <td>135.218338</td>\n",
       "      <td>64.803238</td>\n",
       "      <td>59.981625</td>\n",
       "      <td>68.366478</td>\n",
       "    </tr>\n",
       "    <tr>\n",
       "      <th>...</th>\n",
       "      <td>...</td>\n",
       "      <td>...</td>\n",
       "      <td>...</td>\n",
       "      <td>...</td>\n",
       "    </tr>\n",
       "    <tr>\n",
       "      <th>2021-08-27</th>\n",
       "      <td>450.339996</td>\n",
       "      <td>146.520004</td>\n",
       "      <td>249.179993</td>\n",
       "      <td>225.250000</td>\n",
       "    </tr>\n",
       "    <tr>\n",
       "      <th>2021-08-30</th>\n",
       "      <td>455.929993</td>\n",
       "      <td>147.699997</td>\n",
       "      <td>249.360001</td>\n",
       "      <td>225.360001</td>\n",
       "    </tr>\n",
       "    <tr>\n",
       "      <th>2021-08-31</th>\n",
       "      <td>455.489990</td>\n",
       "      <td>148.100006</td>\n",
       "      <td>246.979996</td>\n",
       "      <td>222.910004</td>\n",
       "    </tr>\n",
       "    <tr>\n",
       "      <th>2021-09-01</th>\n",
       "      <td>456.519989</td>\n",
       "      <td>147.779999</td>\n",
       "      <td>246.369995</td>\n",
       "      <td>222.690002</td>\n",
       "    </tr>\n",
       "    <tr>\n",
       "      <th>2021-09-02</th>\n",
       "      <td>460.970001</td>\n",
       "      <td>148.559998</td>\n",
       "      <td>245.809998</td>\n",
       "      <td>224.960007</td>\n",
       "    </tr>\n",
       "  </tbody>\n",
       "</table>\n",
       "<p>1258 rows × 4 columns</p>\n",
       "</div>"
      ],
      "text/plain": [
       "                  COST         WMT         TGT          DG\n",
       "Date                                                      \n",
       "2016-09-06  140.896622   65.758080   60.674061   68.342621\n",
       "2016-09-07  138.739395   64.911324   60.847187   68.105331\n",
       "2016-09-08  136.805038   64.704163   60.120117   67.080215\n",
       "2016-09-09  134.335831   63.325943   59.721989   66.994766\n",
       "2016-09-12  135.218338   64.803238   59.981625   68.366478\n",
       "...                ...         ...         ...         ...\n",
       "2021-08-27  450.339996  146.520004  249.179993  225.250000\n",
       "2021-08-30  455.929993  147.699997  249.360001  225.360001\n",
       "2021-08-31  455.489990  148.100006  246.979996  222.910004\n",
       "2021-09-01  456.519989  147.779999  246.369995  222.690002\n",
       "2021-09-02  460.970001  148.559998  245.809998  224.960007\n",
       "\n",
       "[1258 rows x 4 columns]"
      ]
     },
     "execution_count": 15,
     "metadata": {},
     "output_type": "execute_result"
    }
   ],
   "source": [
    "retail"
   ]
  },
  {
   "cell_type": "code",
   "execution_count": 16,
   "id": "41fecfb3",
   "metadata": {},
   "outputs": [],
   "source": [
    "retail_returns = retail.pct_change(1).dropna()"
   ]
  },
  {
   "cell_type": "code",
   "execution_count": 46,
   "id": "82238019",
   "metadata": {},
   "outputs": [
    {
     "data": {
      "text/html": [
       "<div>\n",
       "<style scoped>\n",
       "    .dataframe tbody tr th:only-of-type {\n",
       "        vertical-align: middle;\n",
       "    }\n",
       "\n",
       "    .dataframe tbody tr th {\n",
       "        vertical-align: top;\n",
       "    }\n",
       "\n",
       "    .dataframe thead th {\n",
       "        text-align: right;\n",
       "    }\n",
       "</style>\n",
       "<table border=\"1\" class=\"dataframe\">\n",
       "  <thead>\n",
       "    <tr style=\"text-align: right;\">\n",
       "      <th></th>\n",
       "      <th>COST</th>\n",
       "      <th>WMT</th>\n",
       "      <th>TGT</th>\n",
       "      <th>DG</th>\n",
       "    </tr>\n",
       "    <tr>\n",
       "      <th>Date</th>\n",
       "      <th></th>\n",
       "      <th></th>\n",
       "      <th></th>\n",
       "      <th></th>\n",
       "    </tr>\n",
       "  </thead>\n",
       "  <tbody>\n",
       "    <tr>\n",
       "      <th>2016-09-07</th>\n",
       "      <td>-0.015311</td>\n",
       "      <td>-0.012877</td>\n",
       "      <td>0.002853</td>\n",
       "      <td>-0.003472</td>\n",
       "    </tr>\n",
       "    <tr>\n",
       "      <th>2016-09-08</th>\n",
       "      <td>-0.013942</td>\n",
       "      <td>-0.003191</td>\n",
       "      <td>-0.011949</td>\n",
       "      <td>-0.015052</td>\n",
       "    </tr>\n",
       "    <tr>\n",
       "      <th>2016-09-09</th>\n",
       "      <td>-0.018049</td>\n",
       "      <td>-0.021300</td>\n",
       "      <td>-0.006622</td>\n",
       "      <td>-0.001274</td>\n",
       "    </tr>\n",
       "    <tr>\n",
       "      <th>2016-09-12</th>\n",
       "      <td>0.006569</td>\n",
       "      <td>0.023328</td>\n",
       "      <td>0.004347</td>\n",
       "      <td>0.020475</td>\n",
       "    </tr>\n",
       "    <tr>\n",
       "      <th>2016-09-13</th>\n",
       "      <td>-0.006263</td>\n",
       "      <td>-0.006672</td>\n",
       "      <td>-0.005195</td>\n",
       "      <td>-0.019368</td>\n",
       "    </tr>\n",
       "    <tr>\n",
       "      <th>...</th>\n",
       "      <td>...</td>\n",
       "      <td>...</td>\n",
       "      <td>...</td>\n",
       "      <td>...</td>\n",
       "    </tr>\n",
       "    <tr>\n",
       "      <th>2021-08-27</th>\n",
       "      <td>0.002292</td>\n",
       "      <td>-0.005633</td>\n",
       "      <td>0.000884</td>\n",
       "      <td>-0.002877</td>\n",
       "    </tr>\n",
       "    <tr>\n",
       "      <th>2021-08-30</th>\n",
       "      <td>0.012413</td>\n",
       "      <td>0.008053</td>\n",
       "      <td>0.000722</td>\n",
       "      <td>0.000488</td>\n",
       "    </tr>\n",
       "    <tr>\n",
       "      <th>2021-08-31</th>\n",
       "      <td>-0.000965</td>\n",
       "      <td>0.002708</td>\n",
       "      <td>-0.009544</td>\n",
       "      <td>-0.010871</td>\n",
       "    </tr>\n",
       "    <tr>\n",
       "      <th>2021-09-01</th>\n",
       "      <td>0.002261</td>\n",
       "      <td>-0.002161</td>\n",
       "      <td>-0.002470</td>\n",
       "      <td>-0.000987</td>\n",
       "    </tr>\n",
       "    <tr>\n",
       "      <th>2021-09-02</th>\n",
       "      <td>0.009748</td>\n",
       "      <td>0.005278</td>\n",
       "      <td>-0.002273</td>\n",
       "      <td>0.010194</td>\n",
       "    </tr>\n",
       "  </tbody>\n",
       "</table>\n",
       "<p>1257 rows × 4 columns</p>\n",
       "</div>"
      ],
      "text/plain": [
       "                COST       WMT       TGT        DG\n",
       "Date                                              \n",
       "2016-09-07 -0.015311 -0.012877  0.002853 -0.003472\n",
       "2016-09-08 -0.013942 -0.003191 -0.011949 -0.015052\n",
       "2016-09-09 -0.018049 -0.021300 -0.006622 -0.001274\n",
       "2016-09-12  0.006569  0.023328  0.004347  0.020475\n",
       "2016-09-13 -0.006263 -0.006672 -0.005195 -0.019368\n",
       "...              ...       ...       ...       ...\n",
       "2021-08-27  0.002292 -0.005633  0.000884 -0.002877\n",
       "2021-08-30  0.012413  0.008053  0.000722  0.000488\n",
       "2021-08-31 -0.000965  0.002708 -0.009544 -0.010871\n",
       "2021-09-01  0.002261 -0.002161 -0.002470 -0.000987\n",
       "2021-09-02  0.009748  0.005278 -0.002273  0.010194\n",
       "\n",
       "[1257 rows x 4 columns]"
      ]
     },
     "execution_count": 46,
     "metadata": {},
     "output_type": "execute_result"
    }
   ],
   "source": [
    "retail_returns"
   ]
  },
  {
   "cell_type": "markdown",
   "id": "59110d30",
   "metadata": {},
   "source": [
    "Calculate cumulative returns in terms of percent gain - What is percent gain or loss in anything at any point in time"
   ]
  },
  {
   "cell_type": "code",
   "execution_count": 47,
   "id": "07f889a3",
   "metadata": {},
   "outputs": [],
   "source": [
    "#step 1\n",
    "value = (1 + retail_returns['COST'])"
   ]
  },
  {
   "cell_type": "code",
   "execution_count": 19,
   "id": "8e40df87",
   "metadata": {},
   "outputs": [
    {
     "data": {
      "text/plain": [
       "Date\n",
       "2016-09-07    0.984689\n",
       "2016-09-08    0.986058\n",
       "2016-09-09    0.981951\n",
       "2016-09-12    1.006569\n",
       "2016-09-13    0.993737\n",
       "                ...   \n",
       "2021-08-27    1.002292\n",
       "2021-08-30    1.012413\n",
       "2021-08-31    0.999035\n",
       "2021-09-01    1.002261\n",
       "2021-09-02    1.009748\n",
       "Name: COST, Length: 1257, dtype: float64"
      ]
     },
     "execution_count": 19,
     "metadata": {},
     "output_type": "execute_result"
    }
   ],
   "source": [
    "value"
   ]
  },
  {
   "cell_type": "code",
   "execution_count": 20,
   "id": "80f34d51",
   "metadata": {},
   "outputs": [],
   "source": [
    "#step 2\n",
    "product_of_value = value.cumprod()"
   ]
  },
  {
   "cell_type": "code",
   "execution_count": 21,
   "id": "a157b2f9",
   "metadata": {},
   "outputs": [
    {
     "data": {
      "text/plain": [
       "Date\n",
       "2016-09-07    0.984689\n",
       "2016-09-08    0.970960\n",
       "2016-09-09    0.953435\n",
       "2016-09-12    0.959699\n",
       "2016-09-13    0.953689\n",
       "                ...   \n",
       "2021-08-27    3.196244\n",
       "2021-08-30    3.235919\n",
       "2021-08-31    3.232796\n",
       "2021-09-01    3.240106\n",
       "2021-09-02    3.271690\n",
       "Name: COST, Length: 1257, dtype: float64"
      ]
     },
     "execution_count": 21,
     "metadata": {},
     "output_type": "execute_result"
    }
   ],
   "source": [
    "product_of_value"
   ]
  },
  {
   "cell_type": "code",
   "execution_count": 22,
   "id": "e56f93fb",
   "metadata": {},
   "outputs": [],
   "source": [
    "#step 3\n",
    "cumulative_product = product_of_value - 1"
   ]
  },
  {
   "cell_type": "code",
   "execution_count": 23,
   "id": "5f936ae1",
   "metadata": {},
   "outputs": [
    {
     "data": {
      "text/plain": [
       "Date\n",
       "2016-09-07   -0.015311\n",
       "2016-09-08   -0.029040\n",
       "2016-09-09   -0.046565\n",
       "2016-09-12   -0.040301\n",
       "2016-09-13   -0.046311\n",
       "                ...   \n",
       "2021-08-27    2.196244\n",
       "2021-08-30    2.235919\n",
       "2021-08-31    2.232796\n",
       "2021-09-01    2.240106\n",
       "2021-09-02    2.271690\n",
       "Name: COST, Length: 1257, dtype: float64"
      ]
     },
     "execution_count": 23,
     "metadata": {},
     "output_type": "execute_result"
    }
   ],
   "source": [
    "cumulative_product"
   ]
  },
  {
   "cell_type": "code",
   "execution_count": 24,
   "id": "86e9a1dc",
   "metadata": {},
   "outputs": [],
   "source": [
    "data = {'a' : [1,2,3,4,5], 'b' : [1,-2,3,-4,5]}"
   ]
  },
  {
   "cell_type": "code",
   "execution_count": 25,
   "id": "df2549f1",
   "metadata": {},
   "outputs": [],
   "source": [
    "df = pd.DataFrame(data)"
   ]
  },
  {
   "cell_type": "code",
   "execution_count": 26,
   "id": "6752a341",
   "metadata": {},
   "outputs": [
    {
     "data": {
      "text/html": [
       "<div>\n",
       "<style scoped>\n",
       "    .dataframe tbody tr th:only-of-type {\n",
       "        vertical-align: middle;\n",
       "    }\n",
       "\n",
       "    .dataframe tbody tr th {\n",
       "        vertical-align: top;\n",
       "    }\n",
       "\n",
       "    .dataframe thead th {\n",
       "        text-align: right;\n",
       "    }\n",
       "</style>\n",
       "<table border=\"1\" class=\"dataframe\">\n",
       "  <thead>\n",
       "    <tr style=\"text-align: right;\">\n",
       "      <th></th>\n",
       "      <th>a</th>\n",
       "      <th>b</th>\n",
       "    </tr>\n",
       "  </thead>\n",
       "  <tbody>\n",
       "    <tr>\n",
       "      <th>0</th>\n",
       "      <td>1</td>\n",
       "      <td>1</td>\n",
       "    </tr>\n",
       "    <tr>\n",
       "      <th>1</th>\n",
       "      <td>2</td>\n",
       "      <td>-2</td>\n",
       "    </tr>\n",
       "    <tr>\n",
       "      <th>2</th>\n",
       "      <td>3</td>\n",
       "      <td>3</td>\n",
       "    </tr>\n",
       "    <tr>\n",
       "      <th>3</th>\n",
       "      <td>4</td>\n",
       "      <td>-4</td>\n",
       "    </tr>\n",
       "    <tr>\n",
       "      <th>4</th>\n",
       "      <td>5</td>\n",
       "      <td>5</td>\n",
       "    </tr>\n",
       "  </tbody>\n",
       "</table>\n",
       "</div>"
      ],
      "text/plain": [
       "   a  b\n",
       "0  1  1\n",
       "1  2 -2\n",
       "2  3  3\n",
       "3  4 -4\n",
       "4  5  5"
      ]
     },
     "execution_count": 26,
     "metadata": {},
     "output_type": "execute_result"
    }
   ],
   "source": [
    "df"
   ]
  },
  {
   "cell_type": "code",
   "execution_count": 27,
   "id": "55129c13",
   "metadata": {},
   "outputs": [
    {
     "data": {
      "text/html": [
       "<div>\n",
       "<style scoped>\n",
       "    .dataframe tbody tr th:only-of-type {\n",
       "        vertical-align: middle;\n",
       "    }\n",
       "\n",
       "    .dataframe tbody tr th {\n",
       "        vertical-align: top;\n",
       "    }\n",
       "\n",
       "    .dataframe thead th {\n",
       "        text-align: right;\n",
       "    }\n",
       "</style>\n",
       "<table border=\"1\" class=\"dataframe\">\n",
       "  <thead>\n",
       "    <tr style=\"text-align: right;\">\n",
       "      <th></th>\n",
       "      <th>a</th>\n",
       "      <th>b</th>\n",
       "    </tr>\n",
       "  </thead>\n",
       "  <tbody>\n",
       "    <tr>\n",
       "      <th>0</th>\n",
       "      <td>2</td>\n",
       "      <td>2</td>\n",
       "    </tr>\n",
       "    <tr>\n",
       "      <th>1</th>\n",
       "      <td>3</td>\n",
       "      <td>-1</td>\n",
       "    </tr>\n",
       "    <tr>\n",
       "      <th>2</th>\n",
       "      <td>4</td>\n",
       "      <td>4</td>\n",
       "    </tr>\n",
       "    <tr>\n",
       "      <th>3</th>\n",
       "      <td>5</td>\n",
       "      <td>-3</td>\n",
       "    </tr>\n",
       "    <tr>\n",
       "      <th>4</th>\n",
       "      <td>6</td>\n",
       "      <td>6</td>\n",
       "    </tr>\n",
       "  </tbody>\n",
       "</table>\n",
       "</div>"
      ],
      "text/plain": [
       "   a  b\n",
       "0  2  2\n",
       "1  3 -1\n",
       "2  4  4\n",
       "3  5 -3\n",
       "4  6  6"
      ]
     },
     "execution_count": 27,
     "metadata": {},
     "output_type": "execute_result"
    }
   ],
   "source": [
    "1 + df"
   ]
  },
  {
   "cell_type": "code",
   "execution_count": 28,
   "id": "6b7cef66",
   "metadata": {},
   "outputs": [
    {
     "data": {
      "text/html": [
       "<div>\n",
       "<style scoped>\n",
       "    .dataframe tbody tr th:only-of-type {\n",
       "        vertical-align: middle;\n",
       "    }\n",
       "\n",
       "    .dataframe tbody tr th {\n",
       "        vertical-align: top;\n",
       "    }\n",
       "\n",
       "    .dataframe thead th {\n",
       "        text-align: right;\n",
       "    }\n",
       "</style>\n",
       "<table border=\"1\" class=\"dataframe\">\n",
       "  <thead>\n",
       "    <tr style=\"text-align: right;\">\n",
       "      <th></th>\n",
       "      <th>a</th>\n",
       "      <th>b</th>\n",
       "    </tr>\n",
       "  </thead>\n",
       "  <tbody>\n",
       "    <tr>\n",
       "      <th>0</th>\n",
       "      <td>2</td>\n",
       "      <td>2</td>\n",
       "    </tr>\n",
       "    <tr>\n",
       "      <th>1</th>\n",
       "      <td>3</td>\n",
       "      <td>-1</td>\n",
       "    </tr>\n",
       "    <tr>\n",
       "      <th>2</th>\n",
       "      <td>7</td>\n",
       "      <td>-5</td>\n",
       "    </tr>\n",
       "    <tr>\n",
       "      <th>3</th>\n",
       "      <td>25</td>\n",
       "      <td>25</td>\n",
       "    </tr>\n",
       "    <tr>\n",
       "      <th>4</th>\n",
       "      <td>121</td>\n",
       "      <td>121</td>\n",
       "    </tr>\n",
       "  </tbody>\n",
       "</table>\n",
       "</div>"
      ],
      "text/plain": [
       "     a    b\n",
       "0    2    2\n",
       "1    3   -1\n",
       "2    7   -5\n",
       "3   25   25\n",
       "4  121  121"
      ]
     },
     "execution_count": 28,
     "metadata": {},
     "output_type": "execute_result"
    }
   ],
   "source": [
    "1 + df.cumprod()"
   ]
  },
  {
   "cell_type": "code",
   "execution_count": 34,
   "id": "a67f2b83",
   "metadata": {},
   "outputs": [],
   "source": [
    "#Calculate cumulative returns in terms of percent gain - What is percent gain or loss in anything at any point in time\n",
    "\n",
    "#Again \n",
    "\n",
    "cumul_return = (1 + retail_returns['COST']).cumprod() - 1"
   ]
  },
  {
   "cell_type": "code",
   "execution_count": 35,
   "id": "1be07173",
   "metadata": {},
   "outputs": [],
   "source": [
    "cumul_percent_return = cumul_return * 100"
   ]
  },
  {
   "cell_type": "code",
   "execution_count": 45,
   "id": "4d696ef8",
   "metadata": {},
   "outputs": [
    {
     "data": {
      "text/plain": [
       "<AxesSubplot:xlabel='Date'>"
      ]
     },
     "execution_count": 45,
     "metadata": {},
     "output_type": "execute_result"
    },
    {
     "data": {
      "image/png": "[encoded data removed]",
      "text/plain": [
       "<Figure size 432x288 with 1 Axes>"
      ]
     },
     "metadata": {
      "needs_background": "light"
     },
     "output_type": "display_data"
    }
   ],
   "source": [
    "cumul_percent_return.plot()"
   ]
  },
  {
   "cell_type": "markdown",
   "id": "025fb4cc",
   "metadata": {},
   "source": [
    "How to calculate weighted returns (using dot product)\n"
   ]
  },
  {
   "cell_type": "code",
   "execution_count": 40,
   "id": "fb775fd2",
   "metadata": {},
   "outputs": [
    {
     "data": {
      "text/plain": [
       "80"
      ]
     },
     "execution_count": 40,
     "metadata": {},
     "output_type": "execute_result"
    }
   ],
   "source": [
    "#Example \n",
    "\n",
    "np.dot([2,3],[10,20])\n",
    "\n",
    "#This is same as saying (2*10)+(3*20)"
   ]
  },
  {
   "cell_type": "code",
   "execution_count": 41,
   "id": "2cc9a306",
   "metadata": {},
   "outputs": [],
   "source": [
    "#Lets say we have 2 stocks\n",
    "\n",
    "example_returns = np.array([1,0.5]) #One is returning 100% and other is returning 50%"
   ]
  },
  {
   "cell_type": "code",
   "execution_count": 43,
   "id": "16986ccc",
   "metadata": {},
   "outputs": [],
   "source": [
    "example_weights = [1,0] #How is the cash allocated? 100% in index 0 and 0% going in 1"
   ]
  },
  {
   "cell_type": "code",
   "execution_count": 44,
   "id": "cfe63039",
   "metadata": {},
   "outputs": [
    {
     "data": {
      "text/plain": [
       "1.0"
      ]
     },
     "execution_count": 44,
     "metadata": {},
     "output_type": "execute_result"
    }
   ],
   "source": [
    "np.dot(example_returns, example_weights)"
   ]
  },
  {
   "cell_type": "code",
   "execution_count": 51,
   "id": "0cc62d59",
   "metadata": {},
   "outputs": [
    {
     "data": {
      "text/plain": [
       "array([-0.01531071, -0.01394238, -0.01804909, ..., -0.00096507,\n",
       "        0.0022613 ,  0.00974768])"
      ]
     },
     "execution_count": 51,
     "metadata": {},
     "output_type": "execute_result"
    }
   ],
   "source": [
    "#Now for the retail returns\n",
    "\n",
    "np.dot([1,0,0,0],retail_returns.transpose())\n",
    "\n",
    "#This value is our portfolios daily return over time if 100% of capital is invested in index 1(COSTCO)"
   ]
  },
  {
   "cell_type": "code",
   "execution_count": 53,
   "id": "65138f35",
   "metadata": {},
   "outputs": [],
   "source": [
    "#for equal weights:\n",
    "\n",
    "N = len(retail_returns.columns)\n",
    "equal_weights = N * [1/N]"
   ]
  },
  {
   "cell_type": "code",
   "execution_count": 54,
   "id": "443600fe",
   "metadata": {},
   "outputs": [
    {
     "data": {
      "text/plain": [
       "[0.25, 0.25, 0.25, 0.25]"
      ]
     },
     "execution_count": 54,
     "metadata": {},
     "output_type": "execute_result"
    }
   ],
   "source": [
    "equal_weights"
   ]
  },
  {
   "cell_type": "code",
   "execution_count": 57,
   "id": "6cef0c37",
   "metadata": {},
   "outputs": [
    {
     "data": {
      "text/plain": [
       "[4, 4, 4]"
      ]
     },
     "execution_count": 57,
     "metadata": {},
     "output_type": "execute_result"
    }
   ],
   "source": [
    "#what is happening here?\n",
    "3 * [4]"
   ]
  },
  {
   "cell_type": "code",
   "execution_count": 58,
   "id": "53228ed4",
   "metadata": {},
   "outputs": [],
   "source": [
    "equal_returns = np.dot(equal_weights, retail_returns.transpose())"
   ]
  },
  {
   "cell_type": "code",
   "execution_count": 60,
   "id": "272e70df",
   "metadata": {},
   "outputs": [
    {
     "data": {
      "text/plain": [
       "array([-0.00720156, -0.01103371, -0.01181137, ..., -0.00466819,\n",
       "       -0.00083906,  0.00573659])"
      ]
     },
     "execution_count": 60,
     "metadata": {},
     "output_type": "execute_result"
    }
   ],
   "source": [
    "equal_returns \n",
    "\n",
    "#This is the daily return with equal weight distribution of capital on all 4 stocks"
   ]
  },
  {
   "cell_type": "code",
   "execution_count": 62,
   "id": "6dba691c",
   "metadata": {},
   "outputs": [],
   "source": [
    "#for cumulative equal returns\n",
    "\n",
    "cum_equal_weighted_returns = (1 + equal_returns).cumprod() - 1"
   ]
  },
  {
   "cell_type": "code",
   "execution_count": 66,
   "id": "efbd5793",
   "metadata": {},
   "outputs": [],
   "source": [
    "cum_equal_weighted_returns_percent = 100 * cum_equal_weighted_returns"
   ]
  },
  {
   "cell_type": "code",
   "execution_count": 67,
   "id": "8782fec3",
   "metadata": {},
   "outputs": [],
   "source": [
    "#To make it into a series\n",
    "\n",
    "cewrp = pd.Series(cum_equal_weighted_returns_percent, index = retail_returns.index)"
   ]
  },
  {
   "cell_type": "code",
   "execution_count": 68,
   "id": "60c7cd64",
   "metadata": {},
   "outputs": [
    {
     "data": {
      "text/plain": [
       "Date\n",
       "2016-09-07     -0.720156\n",
       "2016-09-08     -1.815581\n",
       "2016-09-09     -2.975273\n",
       "2016-09-12     -1.647971\n",
       "2016-09-13     -2.569954\n",
       "                 ...    \n",
       "2021-08-27    232.170295\n",
       "2021-08-30    233.970413\n",
       "2021-08-31    232.411376\n",
       "2021-09-01    232.132463\n",
       "2021-09-02    234.037771\n",
       "Length: 1257, dtype: float64"
      ]
     },
     "execution_count": 68,
     "metadata": {},
     "output_type": "execute_result"
    }
   ],
   "source": [
    "cewrp"
   ]
  },
  {
   "cell_type": "code",
   "execution_count": 69,
   "id": "e75430a6",
   "metadata": {},
   "outputs": [
    {
     "data": {
      "text/plain": [
       "<AxesSubplot:xlabel='Date'>"
      ]
     },
     "execution_count": 69,
     "metadata": {},
     "output_type": "execute_result"
    },
    {
     "data": {
      "image/png": "[encoded data removed]",
      "text/plain": [
       "<Figure size 432x288 with 1 Axes>"
      ]
     },
     "metadata": {
      "needs_background": "light"
     },
     "output_type": "display_data"
    }
   ],
   "source": [
    "cewrp.plot(label = 'Equal Weighted Portfolio (CUMUL RETURNS)')"
   ]
  },
  {
   "cell_type": "code",
   "execution_count": 72,
   "id": "68117fb0",
   "metadata": {},
   "outputs": [
    {
     "data": {
      "text/plain": [
       "<matplotlib.legend.Legend at 0x7fb8531fbd60>"
      ]
     },
     "execution_count": 72,
     "metadata": {},
     "output_type": "execute_result"
    },
    {
     "data": {
      "image/png": "[encoded data removed]",
      "text/plain": [
       "<Figure size 2000x600 with 1 Axes>"
      ]
     },
     "metadata": {
      "needs_background": "light"
     },
     "output_type": "display_data"
    }
   ],
   "source": [
    "#To compare with 100% costco\n",
    "plt.figure(figsize = (10,3), dpi = 200)\n",
    "cewrp.plot(label = 'Equal Weighted Portfolio (CUMUL RETURNS)')\n",
    "cumul_percent_return.plot(label = 'COST CUMUL RETURNS')\n",
    "plt.legend()"
   ]
  },
  {
   "cell_type": "code",
   "execution_count": null,
   "id": "781bda94",
   "metadata": {},
   "outputs": [],
   "source": []
  }
 ],
 "metadata": {
  "kernelspec": {
   "display_name": "Python 3 (ipykernel)",
   "language": "python",
   "name": "python3"
  },
  "language_info": {
   "codemirror_mode": {
    "name": "ipython",
    "version": 3
   },
   "file_extension": ".py",
   "mimetype": "text/x-python",
   "name": "python",
   "nbconvert_exporter": "python",
   "pygments_lexer": "ipython3",
   "version": "3.9.13"
  }
 },
 "nbformat": 4,
 "nbformat_minor": 5
}
