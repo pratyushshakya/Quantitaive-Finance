{
 "cells": [
  {
   "cell_type": "code",
   "execution_count": 1,
   "id": "68b64234",
   "metadata": {},
   "outputs": [],
   "source": [
    "import pandas as pd"
   ]
  },
  {
   "cell_type": "code",
   "execution_count": 2,
   "id": "79ccecf7",
   "metadata": {},
   "outputs": [],
   "source": [
    "aapl = pd.read_csv('/Users/pratyush/Python/Python for Finance and Algorithmic Trading/Python-Finance-QuantConnect (1)/06-Financial-Concepts-with-Python/apple.csv', index_col = 'Date', parse_dates = True)"
   ]
  },
  {
   "cell_type": "code",
   "execution_count": 3,
   "id": "3c4e595e",
   "metadata": {},
   "outputs": [],
   "source": [
    "msft = pd.read_csv('/Users/pratyush/Python/Python for Finance and Algorithmic Trading/Python-Finance-QuantConnect (1)/06-Financial-Concepts-with-Python/msft.csv', index_col = 'Date', parse_dates = True)"
   ]
  },
  {
   "cell_type": "code",
   "execution_count": 6,
   "id": "e4116b8d",
   "metadata": {},
   "outputs": [],
   "source": [
    "aapl['Daily Return'] = aapl['Adj Close'].pct_change(1)"
   ]
  },
  {
   "cell_type": "code",
   "execution_count": 8,
   "id": "18470789",
   "metadata": {},
   "outputs": [],
   "source": [
    "msft['Daily Return'] = msft['Adj Close'].pct_change(1)"
   ]
  },
  {
   "cell_type": "code",
   "execution_count": 10,
   "id": "f666827f",
   "metadata": {},
   "outputs": [],
   "source": [
    "aapl = aapl.dropna()"
   ]
  },
  {
   "cell_type": "code",
   "execution_count": 14,
   "id": "dfdf5db7",
   "metadata": {},
   "outputs": [],
   "source": [
    "msft = msft.dropna()"
   ]
  },
  {
   "cell_type": "code",
   "execution_count": 26,
   "id": "e2657df0",
   "metadata": {},
   "outputs": [
    {
     "data": {
      "text/plain": [
       "Date\n",
       "2016-01-04    False\n",
       "2016-01-05     True\n",
       "2016-01-06     True\n",
       "2016-01-07     True\n",
       "2016-01-08    False\n",
       "              ...  \n",
       "2021-08-23    False\n",
       "2021-08-24     True\n",
       "2021-08-25     True\n",
       "2021-08-26     True\n",
       "2021-08-27    False\n",
       "Name: Daily Return, Length: 1424, dtype: bool"
      ]
     },
     "execution_count": 26,
     "metadata": {},
     "output_type": "execute_result"
    }
   ],
   "source": [
    "#To undestand the process of downside in the function below:\n",
    "\n",
    "#Step 1 => Returns where daily returns are negative\n",
    "\n",
    "aapl['Daily Return'] < 0"
   ]
  },
  {
   "cell_type": "code",
   "execution_count": 27,
   "id": "06c7fef4",
   "metadata": {},
   "outputs": [
    {
     "data": {
      "text/html": [
       "<div>\n",
       "<style scoped>\n",
       "    .dataframe tbody tr th:only-of-type {\n",
       "        vertical-align: middle;\n",
       "    }\n",
       "\n",
       "    .dataframe tbody tr th {\n",
       "        vertical-align: top;\n",
       "    }\n",
       "\n",
       "    .dataframe thead th {\n",
       "        text-align: right;\n",
       "    }\n",
       "</style>\n",
       "<table border=\"1\" class=\"dataframe\">\n",
       "  <thead>\n",
       "    <tr style=\"text-align: right;\">\n",
       "      <th></th>\n",
       "      <th>Open</th>\n",
       "      <th>High</th>\n",
       "      <th>Low</th>\n",
       "      <th>Close</th>\n",
       "      <th>Adj Close</th>\n",
       "      <th>Volume</th>\n",
       "      <th>Daily Return</th>\n",
       "    </tr>\n",
       "    <tr>\n",
       "      <th>Date</th>\n",
       "      <th></th>\n",
       "      <th></th>\n",
       "      <th></th>\n",
       "      <th></th>\n",
       "      <th></th>\n",
       "      <th></th>\n",
       "      <th></th>\n",
       "    </tr>\n",
       "  </thead>\n",
       "  <tbody>\n",
       "    <tr>\n",
       "      <th>2016-01-05</th>\n",
       "      <td>26.437500</td>\n",
       "      <td>26.462500</td>\n",
       "      <td>25.602501</td>\n",
       "      <td>25.677500</td>\n",
       "      <td>23.678219</td>\n",
       "      <td>223164000</td>\n",
       "      <td>-0.025059</td>\n",
       "    </tr>\n",
       "    <tr>\n",
       "      <th>2016-01-06</th>\n",
       "      <td>25.139999</td>\n",
       "      <td>25.592501</td>\n",
       "      <td>24.967501</td>\n",
       "      <td>25.174999</td>\n",
       "      <td>23.214844</td>\n",
       "      <td>273829600</td>\n",
       "      <td>-0.019570</td>\n",
       "    </tr>\n",
       "    <tr>\n",
       "      <th>2016-01-07</th>\n",
       "      <td>24.670000</td>\n",
       "      <td>25.032499</td>\n",
       "      <td>24.107500</td>\n",
       "      <td>24.112499</td>\n",
       "      <td>22.235069</td>\n",
       "      <td>324377600</td>\n",
       "      <td>-0.042205</td>\n",
       "    </tr>\n",
       "    <tr>\n",
       "      <th>2016-01-13</th>\n",
       "      <td>25.080000</td>\n",
       "      <td>25.297501</td>\n",
       "      <td>24.325001</td>\n",
       "      <td>24.347500</td>\n",
       "      <td>22.451773</td>\n",
       "      <td>249758400</td>\n",
       "      <td>-0.025710</td>\n",
       "    </tr>\n",
       "    <tr>\n",
       "      <th>2016-01-15</th>\n",
       "      <td>24.049999</td>\n",
       "      <td>24.427500</td>\n",
       "      <td>23.840000</td>\n",
       "      <td>24.282499</td>\n",
       "      <td>22.391838</td>\n",
       "      <td>319335600</td>\n",
       "      <td>-0.024015</td>\n",
       "    </tr>\n",
       "    <tr>\n",
       "      <th>...</th>\n",
       "      <td>...</td>\n",
       "      <td>...</td>\n",
       "      <td>...</td>\n",
       "      <td>...</td>\n",
       "      <td>...</td>\n",
       "      <td>...</td>\n",
       "      <td>...</td>\n",
       "    </tr>\n",
       "    <tr>\n",
       "      <th>2021-08-17</th>\n",
       "      <td>150.229996</td>\n",
       "      <td>151.679993</td>\n",
       "      <td>149.089996</td>\n",
       "      <td>150.190002</td>\n",
       "      <td>150.190002</td>\n",
       "      <td>92229700</td>\n",
       "      <td>-0.006154</td>\n",
       "    </tr>\n",
       "    <tr>\n",
       "      <th>2021-08-18</th>\n",
       "      <td>149.800003</td>\n",
       "      <td>150.720001</td>\n",
       "      <td>146.149994</td>\n",
       "      <td>146.360001</td>\n",
       "      <td>146.360001</td>\n",
       "      <td>86326000</td>\n",
       "      <td>-0.025501</td>\n",
       "    </tr>\n",
       "    <tr>\n",
       "      <th>2021-08-24</th>\n",
       "      <td>149.449997</td>\n",
       "      <td>150.860001</td>\n",
       "      <td>149.149994</td>\n",
       "      <td>149.619995</td>\n",
       "      <td>149.619995</td>\n",
       "      <td>48606400</td>\n",
       "      <td>-0.000601</td>\n",
       "    </tr>\n",
       "    <tr>\n",
       "      <th>2021-08-25</th>\n",
       "      <td>149.809998</td>\n",
       "      <td>150.320007</td>\n",
       "      <td>147.800003</td>\n",
       "      <td>148.360001</td>\n",
       "      <td>148.360001</td>\n",
       "      <td>58991300</td>\n",
       "      <td>-0.008421</td>\n",
       "    </tr>\n",
       "    <tr>\n",
       "      <th>2021-08-26</th>\n",
       "      <td>148.350006</td>\n",
       "      <td>149.119995</td>\n",
       "      <td>147.509995</td>\n",
       "      <td>147.539993</td>\n",
       "      <td>147.539993</td>\n",
       "      <td>48597200</td>\n",
       "      <td>-0.005527</td>\n",
       "    </tr>\n",
       "  </tbody>\n",
       "</table>\n",
       "<p>652 rows × 7 columns</p>\n",
       "</div>"
      ],
      "text/plain": [
       "                  Open        High         Low       Close   Adj Close  \\\n",
       "Date                                                                     \n",
       "2016-01-05   26.437500   26.462500   25.602501   25.677500   23.678219   \n",
       "2016-01-06   25.139999   25.592501   24.967501   25.174999   23.214844   \n",
       "2016-01-07   24.670000   25.032499   24.107500   24.112499   22.235069   \n",
       "2016-01-13   25.080000   25.297501   24.325001   24.347500   22.451773   \n",
       "2016-01-15   24.049999   24.427500   23.840000   24.282499   22.391838   \n",
       "...                ...         ...         ...         ...         ...   \n",
       "2021-08-17  150.229996  151.679993  149.089996  150.190002  150.190002   \n",
       "2021-08-18  149.800003  150.720001  146.149994  146.360001  146.360001   \n",
       "2021-08-24  149.449997  150.860001  149.149994  149.619995  149.619995   \n",
       "2021-08-25  149.809998  150.320007  147.800003  148.360001  148.360001   \n",
       "2021-08-26  148.350006  149.119995  147.509995  147.539993  147.539993   \n",
       "\n",
       "               Volume  Daily Return  \n",
       "Date                                 \n",
       "2016-01-05  223164000     -0.025059  \n",
       "2016-01-06  273829600     -0.019570  \n",
       "2016-01-07  324377600     -0.042205  \n",
       "2016-01-13  249758400     -0.025710  \n",
       "2016-01-15  319335600     -0.024015  \n",
       "...               ...           ...  \n",
       "2021-08-17   92229700     -0.006154  \n",
       "2021-08-18   86326000     -0.025501  \n",
       "2021-08-24   48606400     -0.000601  \n",
       "2021-08-25   58991300     -0.008421  \n",
       "2021-08-26   48597200     -0.005527  \n",
       "\n",
       "[652 rows x 7 columns]"
      ]
     },
     "execution_count": 27,
     "metadata": {},
     "output_type": "execute_result"
    }
   ],
   "source": [
    "#Step 2 => Gives us value where daily returns are negative\n",
    "\n",
    "aapl[aapl['Daily Return'] < 0]"
   ]
  },
  {
   "cell_type": "code",
   "execution_count": 37,
   "id": "13377a3b",
   "metadata": {},
   "outputs": [
    {
     "data": {
      "text/plain": [
       "Date\n",
       "2016-01-05   -0.025059\n",
       "2016-01-06   -0.019570\n",
       "2016-01-07   -0.042205\n",
       "2016-01-13   -0.025710\n",
       "2016-01-15   -0.024015\n",
       "                ...   \n",
       "2021-08-17   -0.006154\n",
       "2021-08-18   -0.025501\n",
       "2021-08-24   -0.000601\n",
       "2021-08-25   -0.008421\n",
       "2021-08-26   -0.005527\n",
       "Name: Daily Return, Length: 652, dtype: float64"
      ]
     },
     "execution_count": 37,
     "metadata": {},
     "output_type": "execute_result"
    }
   ],
   "source": [
    "#Step 3 => gives us daily return values where daily returns are negative\n",
    "\n",
    "aapl[aapl['Daily Return'] < 0]['Daily Return']"
   ]
  },
  {
   "cell_type": "code",
   "execution_count": 30,
   "id": "e88ec3ac",
   "metadata": {},
   "outputs": [],
   "source": [
    "#Now lets create a funtion for sortino ratio\n",
    "\n",
    "def compute_sortino_ratio(df, threshold = 0, rf = 0):\n",
    "    \n",
    "    mean_return = df['Daily Return'].mean()\n",
    "    \n",
    "    #Now we take into account the threshold to calculate the stdev\n",
    "      #if threshold = 0 ==> We only need the negative daily returns\n",
    "        \n",
    "    downside = df[df['Daily Return'] < threshold]['Daily Return']\n",
    "    \n",
    "    downside_std = downside.std()\n",
    "    \n",
    "    \n",
    "    sortino_ratio = (mean_return - rf)/downside_std\n",
    "    \n",
    "    return sortino_ratio"
   ]
  },
  {
   "cell_type": "code",
   "execution_count": 31,
   "id": "b98d2110",
   "metadata": {},
   "outputs": [
    {
     "data": {
      "text/plain": [
       "0.1016461270508297"
      ]
     },
     "execution_count": 31,
     "metadata": {},
     "output_type": "execute_result"
    }
   ],
   "source": [
    "compute_sortino_ratio(aapl)"
   ]
  },
  {
   "cell_type": "code",
   "execution_count": 38,
   "id": "e97a9a4b",
   "metadata": {},
   "outputs": [],
   "source": [
    "#To create a function that annualizes the sortino ratio\n",
    "\n",
    "def annual_sortino_ratio(df, threshold = 0, rf = 0):\n",
    "    \n",
    "    mean_return = df['Daily Return'].mean()\n",
    "    \n",
    "    downside = df[df['Daily Return'] < threshold]['Daily Return']\n",
    "    \n",
    "    downside_std = downside.std()\n",
    "    \n",
    "    annual_sortino_ratio = (mean_return - rf) / downside_std\n",
    "    \n",
    "    return annual_sortino_ratio * (252 ** 0.5)"
   ]
  },
  {
   "cell_type": "code",
   "execution_count": 41,
   "id": "97ddcdcf",
   "metadata": {},
   "outputs": [],
   "source": [
    "sort_aapl = annual_sortino_ratio(aapl)"
   ]
  },
  {
   "cell_type": "code",
   "execution_count": 42,
   "id": "773ee241",
   "metadata": {},
   "outputs": [
    {
     "data": {
      "text/plain": [
       "1.613582243456224"
      ]
     },
     "execution_count": 42,
     "metadata": {},
     "output_type": "execute_result"
    }
   ],
   "source": [
    "sort_aapl"
   ]
  },
  {
   "cell_type": "code",
   "execution_count": null,
   "id": "530ca343",
   "metadata": {},
   "outputs": [],
   "source": []
  }
 ],
 "metadata": {
  "kernelspec": {
   "display_name": "Python 3 (ipykernel)",
   "language": "python",
   "name": "python3"
  },
  "language_info": {
   "codemirror_mode": {
    "name": "ipython",
    "version": 3
   },
   "file_extension": ".py",
   "mimetype": "text/x-python",
   "name": "python",
   "nbconvert_exporter": "python",
   "pygments_lexer": "ipython3",
   "version": "3.9.13"
  }
 },
 "nbformat": 4,
 "nbformat_minor": 5
}
