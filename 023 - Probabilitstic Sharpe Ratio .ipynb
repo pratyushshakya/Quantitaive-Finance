{
 "cells": [
  {
   "cell_type": "markdown",
   "id": "d155c769",
   "metadata": {},
   "source": [
    "## Probabilistic Sharpe Ratio\n",
    "\n",
    "The problem of the sharpe ratio is, that it is calculated via historical data and thus it only yields an estimation and not the true sharpe ratio!\n",
    "\n",
    "To tackle this problem you can use the *Probabilistic Sharpe Ratio* \n",
    "It is defined as \n",
    "$$ \\text{cdf} \\Big( \\frac{(\\widehat{\\text{SR}} - SR^*)}{\\widehat{\\sigma}({\\widehat{SR})}} \\Big)$$\n",
    "where cdf is the cummulative density function of the normal function, <br />\n",
    "$\\widehat{SR}$ is the original sharpe ratio,<br />\n",
    "$SR^*$ is the benchmark sharpe ratio (often 0), <br />\n",
    "and $\\hat{\\sigma}(\\widehat{SR})$ is the standard deviation of the estimated sharpe ratio which is computed as follows:\n",
    "\n",
    "$$ \\hat{\\sigma}(\\hat{SR}) = \\sqrt{\\frac{1}{n-1} \\Big (1 + \\frac{1}{2} \\widehat{\\text{SR}}^2 - \\gamma_3 \\hat{\\text{SR}} + \\frac{\\gamma_4}{4} \\widehat{\\text{SR}}^2 \\Big )} $$\n",
    "\n",
    "Here, $\\gamma_3$ and $\\gamma_4$ correspond to skew and fisher kurtosis.\n",
    "\n",
    "In words, the probabilistic sharpe ratio computes the propability that the true sharpe ratio is $\\leq$ the estimated sharpe ratio ($PSR = P(SR \\leq \\widehat{\\text{SR}})$) given the benchmark sharpe ratio.\n",
    "\n",
    "To compute skew kurtosis and cdf, we can use scipy.stats"
   ]
  },
  {
   "cell_type": "code",
   "execution_count": 1,
   "id": "dcdd1853",
   "metadata": {},
   "outputs": [],
   "source": [
    "import pandas as pd"
   ]
  },
  {
   "cell_type": "code",
   "execution_count": 2,
   "id": "a95d71e7",
   "metadata": {},
   "outputs": [],
   "source": [
    "aapl = pd.read_csv('/Users/pratyush/Python/Python for Finance and Algorithmic Trading/Python-Finance-QuantConnect (1)/06-Financial-Concepts-with-Python/apple.csv', index_col = 'Date', parse_dates = True)"
   ]
  },
  {
   "cell_type": "code",
   "execution_count": 3,
   "id": "ea842a2d",
   "metadata": {},
   "outputs": [],
   "source": [
    "msft = pd.read_csv('/Users/pratyush/Python/Python for Finance and Algorithmic Trading/Python-Finance-QuantConnect (1)/06-Financial-Concepts-with-Python/msft.csv', index_col = 'Date', parse_dates = True)"
   ]
  },
  {
   "cell_type": "code",
   "execution_count": 17,
   "id": "c3b5e3d0",
   "metadata": {},
   "outputs": [
    {
     "name": "stderr",
     "output_type": "stream",
     "text": [
      "/var/folders/71/_0kmpcqd1bncrjjx5q3_sq2r0000gn/T/ipykernel_888/2882418213.py:1: SettingWithCopyWarning: \n",
      "A value is trying to be set on a copy of a slice from a DataFrame.\n",
      "Try using .loc[row_indexer,col_indexer] = value instead\n",
      "\n",
      "See the caveats in the documentation: https://pandas.pydata.org/pandas-docs/stable/user_guide/indexing.html#returning-a-view-versus-a-copy\n",
      "  aapl['Daily Return'] = aapl['Adj Close'].pct_change(1)\n"
     ]
    }
   ],
   "source": [
    "aapl['Daily Return'] = aapl['Adj Close'].pct_change(1)"
   ]
  },
  {
   "cell_type": "code",
   "execution_count": 18,
   "id": "6c0452ca",
   "metadata": {},
   "outputs": [],
   "source": [
    "msft['Daily Return'] = msft['Adj Close'].pct_change(1)"
   ]
  },
  {
   "cell_type": "code",
   "execution_count": 19,
   "id": "ff0d14a0",
   "metadata": {},
   "outputs": [],
   "source": [
    "aapl = aapl.dropna()"
   ]
  },
  {
   "cell_type": "code",
   "execution_count": 20,
   "id": "8d9f24de",
   "metadata": {},
   "outputs": [],
   "source": [
    "msft = msft.dropna()"
   ]
  },
  {
   "cell_type": "code",
   "execution_count": 21,
   "id": "b8e9b73f",
   "metadata": {},
   "outputs": [
    {
     "data": {
      "text/html": [
       "<div>\n",
       "<style scoped>\n",
       "    .dataframe tbody tr th:only-of-type {\n",
       "        vertical-align: middle;\n",
       "    }\n",
       "\n",
       "    .dataframe tbody tr th {\n",
       "        vertical-align: top;\n",
       "    }\n",
       "\n",
       "    .dataframe thead th {\n",
       "        text-align: right;\n",
       "    }\n",
       "</style>\n",
       "<table border=\"1\" class=\"dataframe\">\n",
       "  <thead>\n",
       "    <tr style=\"text-align: right;\">\n",
       "      <th></th>\n",
       "      <th>Open</th>\n",
       "      <th>High</th>\n",
       "      <th>Low</th>\n",
       "      <th>Close</th>\n",
       "      <th>Adj Close</th>\n",
       "      <th>Volume</th>\n",
       "      <th>Daily Return</th>\n",
       "    </tr>\n",
       "    <tr>\n",
       "      <th>Date</th>\n",
       "      <th></th>\n",
       "      <th></th>\n",
       "      <th></th>\n",
       "      <th></th>\n",
       "      <th></th>\n",
       "      <th></th>\n",
       "      <th></th>\n",
       "    </tr>\n",
       "  </thead>\n",
       "  <tbody>\n",
       "    <tr>\n",
       "      <th>2016-01-05</th>\n",
       "      <td>26.437500</td>\n",
       "      <td>26.462500</td>\n",
       "      <td>25.602501</td>\n",
       "      <td>25.677500</td>\n",
       "      <td>23.678219</td>\n",
       "      <td>223164000</td>\n",
       "      <td>-0.025059</td>\n",
       "    </tr>\n",
       "    <tr>\n",
       "      <th>2016-01-06</th>\n",
       "      <td>25.139999</td>\n",
       "      <td>25.592501</td>\n",
       "      <td>24.967501</td>\n",
       "      <td>25.174999</td>\n",
       "      <td>23.214844</td>\n",
       "      <td>273829600</td>\n",
       "      <td>-0.019570</td>\n",
       "    </tr>\n",
       "    <tr>\n",
       "      <th>2016-01-07</th>\n",
       "      <td>24.670000</td>\n",
       "      <td>25.032499</td>\n",
       "      <td>24.107500</td>\n",
       "      <td>24.112499</td>\n",
       "      <td>22.235069</td>\n",
       "      <td>324377600</td>\n",
       "      <td>-0.042205</td>\n",
       "    </tr>\n",
       "    <tr>\n",
       "      <th>2016-01-08</th>\n",
       "      <td>24.637501</td>\n",
       "      <td>24.777500</td>\n",
       "      <td>24.190001</td>\n",
       "      <td>24.240000</td>\n",
       "      <td>22.352642</td>\n",
       "      <td>283192000</td>\n",
       "      <td>0.005288</td>\n",
       "    </tr>\n",
       "    <tr>\n",
       "      <th>2016-01-11</th>\n",
       "      <td>24.742500</td>\n",
       "      <td>24.764999</td>\n",
       "      <td>24.334999</td>\n",
       "      <td>24.632500</td>\n",
       "      <td>22.714584</td>\n",
       "      <td>198957600</td>\n",
       "      <td>0.016192</td>\n",
       "    </tr>\n",
       "    <tr>\n",
       "      <th>...</th>\n",
       "      <td>...</td>\n",
       "      <td>...</td>\n",
       "      <td>...</td>\n",
       "      <td>...</td>\n",
       "      <td>...</td>\n",
       "      <td>...</td>\n",
       "      <td>...</td>\n",
       "    </tr>\n",
       "    <tr>\n",
       "      <th>2021-08-23</th>\n",
       "      <td>148.309998</td>\n",
       "      <td>150.190002</td>\n",
       "      <td>147.889999</td>\n",
       "      <td>149.710007</td>\n",
       "      <td>149.710007</td>\n",
       "      <td>60131800</td>\n",
       "      <td>0.010257</td>\n",
       "    </tr>\n",
       "    <tr>\n",
       "      <th>2021-08-24</th>\n",
       "      <td>149.449997</td>\n",
       "      <td>150.860001</td>\n",
       "      <td>149.149994</td>\n",
       "      <td>149.619995</td>\n",
       "      <td>149.619995</td>\n",
       "      <td>48606400</td>\n",
       "      <td>-0.000601</td>\n",
       "    </tr>\n",
       "    <tr>\n",
       "      <th>2021-08-25</th>\n",
       "      <td>149.809998</td>\n",
       "      <td>150.320007</td>\n",
       "      <td>147.800003</td>\n",
       "      <td>148.360001</td>\n",
       "      <td>148.360001</td>\n",
       "      <td>58991300</td>\n",
       "      <td>-0.008421</td>\n",
       "    </tr>\n",
       "    <tr>\n",
       "      <th>2021-08-26</th>\n",
       "      <td>148.350006</td>\n",
       "      <td>149.119995</td>\n",
       "      <td>147.509995</td>\n",
       "      <td>147.539993</td>\n",
       "      <td>147.539993</td>\n",
       "      <td>48597200</td>\n",
       "      <td>-0.005527</td>\n",
       "    </tr>\n",
       "    <tr>\n",
       "      <th>2021-08-27</th>\n",
       "      <td>147.479996</td>\n",
       "      <td>148.750000</td>\n",
       "      <td>146.830002</td>\n",
       "      <td>148.600006</td>\n",
       "      <td>148.600006</td>\n",
       "      <td>55721500</td>\n",
       "      <td>0.007185</td>\n",
       "    </tr>\n",
       "  </tbody>\n",
       "</table>\n",
       "<p>1423 rows × 7 columns</p>\n",
       "</div>"
      ],
      "text/plain": [
       "                  Open        High         Low       Close   Adj Close  \\\n",
       "Date                                                                     \n",
       "2016-01-05   26.437500   26.462500   25.602501   25.677500   23.678219   \n",
       "2016-01-06   25.139999   25.592501   24.967501   25.174999   23.214844   \n",
       "2016-01-07   24.670000   25.032499   24.107500   24.112499   22.235069   \n",
       "2016-01-08   24.637501   24.777500   24.190001   24.240000   22.352642   \n",
       "2016-01-11   24.742500   24.764999   24.334999   24.632500   22.714584   \n",
       "...                ...         ...         ...         ...         ...   \n",
       "2021-08-23  148.309998  150.190002  147.889999  149.710007  149.710007   \n",
       "2021-08-24  149.449997  150.860001  149.149994  149.619995  149.619995   \n",
       "2021-08-25  149.809998  150.320007  147.800003  148.360001  148.360001   \n",
       "2021-08-26  148.350006  149.119995  147.509995  147.539993  147.539993   \n",
       "2021-08-27  147.479996  148.750000  146.830002  148.600006  148.600006   \n",
       "\n",
       "               Volume  Daily Return  \n",
       "Date                                 \n",
       "2016-01-05  223164000     -0.025059  \n",
       "2016-01-06  273829600     -0.019570  \n",
       "2016-01-07  324377600     -0.042205  \n",
       "2016-01-08  283192000      0.005288  \n",
       "2016-01-11  198957600      0.016192  \n",
       "...               ...           ...  \n",
       "2021-08-23   60131800      0.010257  \n",
       "2021-08-24   48606400     -0.000601  \n",
       "2021-08-25   58991300     -0.008421  \n",
       "2021-08-26   48597200     -0.005527  \n",
       "2021-08-27   55721500      0.007185  \n",
       "\n",
       "[1423 rows x 7 columns]"
      ]
     },
     "execution_count": 21,
     "metadata": {},
     "output_type": "execute_result"
    }
   ],
   "source": [
    "aapl"
   ]
  },
  {
   "cell_type": "code",
   "execution_count": 30,
   "id": "ab49400f",
   "metadata": {},
   "outputs": [],
   "source": [
    "def sharpe_ratio(df, rf = 0):\n",
    "    \n",
    "    mean_return = df['Daily Return'].mean()\n",
    "    \n",
    "    stdev = df['Daily Return'].std()\n",
    "    \n",
    "    sharpe_ratio = (mean_return - rf)/stdev\n",
    "    \n",
    "    return sharpe_ratio"
   ]
  },
  {
   "cell_type": "code",
   "execution_count": 32,
   "id": "800bc6f3",
   "metadata": {},
   "outputs": [],
   "source": [
    "value = sharpe_ratio(aapl)"
   ]
  },
  {
   "cell_type": "code",
   "execution_count": 33,
   "id": "03ef85b7",
   "metadata": {},
   "outputs": [
    {
     "data": {
      "text/plain": [
       "0.07744773478651858"
      ]
     },
     "execution_count": 33,
     "metadata": {},
     "output_type": "execute_result"
    }
   ],
   "source": [
    "value"
   ]
  },
  {
   "cell_type": "code",
   "execution_count": 35,
   "id": "0d0f5590",
   "metadata": {},
   "outputs": [],
   "source": [
    "import scipy.stats"
   ]
  },
  {
   "cell_type": "markdown",
   "id": "03e3b9ee",
   "metadata": {},
   "source": [
    "$$ \\text{cdf} \\Big( \\frac{(\\widehat{\\text{SR}} - SR^*)}{\\widehat{\\sigma}({\\widehat{SR})}} \\Big)$$\n",
    "\n",
    "\n",
    "$$ \\hat{\\sigma}(\\hat{SR}) = \\sqrt{\\frac{1}{n-1} \\Big (1 + \\frac{1}{2} \\widehat{\\text{SR}}^2 - \\gamma_3 \\hat{\\text{SR}} + \\frac{\\gamma_4}{4} \\widehat{\\text{SR}}^2 \\Big )} $$"
   ]
  },
  {
   "cell_type": "code",
   "execution_count": 59,
   "id": "2a26b8ef",
   "metadata": {},
   "outputs": [],
   "source": [
    "def compute_psr(df, benchmark = 0):\n",
    "    \n",
    "    sr = sharpe_ratio(df)\n",
    "    \n",
    "    skew = scipy.stats.skew(df['Daily Return'])\n",
    "    \n",
    "    kurtosis = scipy.stats.kurtosis(df['Daily Return'], fisher = True)\n",
    "    \n",
    "    n = len(df)\n",
    "    \n",
    "    \n",
    "    \n",
    "    sigma_sr = ((1/(n-1)) * (1 + 0.5*sr**2 - skew*sr + (kurtosis/4)*sr**2)) ** 0.5\n",
    "    \n",
    "    final_ratio = (sr - benchmark) / sigma_sr\n",
    "\n",
    "    psr = scipy.stats.norm.cdf(final_ratio)\n",
    "    \n",
    "#How do you find the norm CDF in Python?\n",
    "\n",
    "#The easiest way to calculate normal CDF probabilities in Python is to use the norm. cdf() function \n",
    "#from the SciPy library.\n",
    "\n",
    "#What is this? The probability that a random variables takes on a value less than 1.96 in a standard normal \n",
    "#distribution is roughly 0.975.\n",
    "    \n",
    "    \n",
    "    return psr\n",
    "    \n",
    "    "
   ]
  },
  {
   "cell_type": "code",
   "execution_count": 60,
   "id": "1ce79889",
   "metadata": {},
   "outputs": [],
   "source": [
    "psr_aapl = compute_psr(aapl)"
   ]
  },
  {
   "cell_type": "code",
   "execution_count": 61,
   "id": "aaf829d5",
   "metadata": {},
   "outputs": [
    {
     "data": {
      "text/plain": [
       "0.9980809273669636"
      ]
     },
     "execution_count": 61,
     "metadata": {},
     "output_type": "execute_result"
    }
   ],
   "source": [
    "psr_aapl"
   ]
  },
  {
   "cell_type": "code",
   "execution_count": 62,
   "id": "2be8c7f4",
   "metadata": {},
   "outputs": [
    {
     "data": {
      "text/plain": [
       "15.84404353277824"
      ]
     },
     "execution_count": 62,
     "metadata": {},
     "output_type": "execute_result"
    }
   ],
   "source": [
    "#For annualized psr\n",
    "\n",
    "psr_aapl * (252**0.5)"
   ]
  },
  {
   "cell_type": "code",
   "execution_count": 63,
   "id": "89f50687",
   "metadata": {},
   "outputs": [],
   "source": [
    "psr_msft = compute_psr(msft)"
   ]
  },
  {
   "cell_type": "code",
   "execution_count": 64,
   "id": "81b248ac",
   "metadata": {},
   "outputs": [
    {
     "data": {
      "text/plain": [
       "15.858321048744315"
      ]
     },
     "execution_count": 64,
     "metadata": {},
     "output_type": "execute_result"
    }
   ],
   "source": [
    "psr_msft * (252**0.5)"
   ]
  },
  {
   "cell_type": "code",
   "execution_count": null,
   "id": "0859d235",
   "metadata": {},
   "outputs": [],
   "source": []
  }
 ],
 "metadata": {
  "kernelspec": {
   "display_name": "Python 3 (ipykernel)",
   "language": "python",
   "name": "python3"
  },
  "language_info": {
   "codemirror_mode": {
    "name": "ipython",
    "version": 3
   },
   "file_extension": ".py",
   "mimetype": "text/x-python",
   "name": "python",
   "nbconvert_exporter": "python",
   "pygments_lexer": "ipython3",
   "version": "3.9.13"
  }
 },
 "nbformat": 4,
 "nbformat_minor": 5
}
